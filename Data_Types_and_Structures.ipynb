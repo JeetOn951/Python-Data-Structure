{
  "nbformat": 4,
  "nbformat_minor": 0,
  "metadata": {
    "colab": {
      "provenance": []
    },
    "kernelspec": {
      "name": "python3",
      "display_name": "Python 3"
    },
    "language_info": {
      "name": "python"
    }
  },
  "cells": [
    {
      "cell_type": "markdown",
      "source": [
        "# **Theoretical Questions :**"
      ],
      "metadata": {
        "id": "jZe15QOLgKBR"
      }
    },
    {
      "cell_type": "markdown",
      "source": [
        "1. What are data structures, and why are they important?\n",
        "- Data structures are ways of organizing and storing data in a computer so we can use it efficiently. They help us keep data neat and easy to access, like putting books on a shelf instead of in a messy pile.\n",
        "\n",
        "\n",
        "\n",
        "2. Explain the difference between mutable and immutable data types with examples.\n",
        "- Mutable means we can change it after creating it — like a list: `my_list = [1, 2, 3]` → wecan add or remove things. *Immutable* means it stays the same once made — like a string: `my_string = \"Hello\"` → we can’t change the letters directly.\n",
        "\n",
        "\n",
        "\n",
        "3. What are the main differences between lists and tuples in Python?\n",
        "- Lists are mutable (changeable) and written with `[]`. Tuples are immutable (can’t change) and written with `()`. So, use a list when we need to edit stuff; use a tuple when the data shouldn’t change.\n",
        "\n",
        "\n",
        "\n",
        "4. Describe how dictionaries store data.\n",
        "- Dictionaries store data as key-value pairs, like a word (key) and its meaning (value). For example: `{\"name\": \"Sporsho\", \"age\": 23}` — here, `\"name\"` is the key, `\"Sporsho\"` is the value.\n",
        "\n",
        "\n",
        "\n",
        "5. Why might you use a set instead of a list in Python?\n",
        "- A set removes duplicate values automatically and is good when we just want unique items. For example: `set([1, 2, 2, 3])` becomes `{1, 2, 3}`.\n",
        "\n",
        "\n",
        "\n",
        "6. What is a string in Python, and how is it different from a list?\n",
        "- A string is a sequence of characters, like `\"Hello\"`. It’s immutable, so we can’t change parts of it directly. A list can hold any data type, can mix items, and we can add, remove, or change items.\n",
        "\n",
        "\n",
        "\n",
        "7. How do tuples ensure data integrity in Python?\n",
        "- Because tuples can’t be changed after they’re made, they protect the data from being accidentally edited. This is useful when the data must stay the same.\n",
        "\n",
        "\n",
        "\n",
        "\n",
        "8. What is a hash table, and how does it relate to dictionaries in Python?\n",
        "- A hash table is a system for storing data so we can find it fast. Python dictionaries use hash tables under the hood to quickly match keys to values.\n",
        "\n",
        "\n",
        "9. Can lists contain different data types in Python?\n",
        "- Yes! A list can have numbers, strings, other lists — anything. Example: `[1, \"hello\", [2, 3]]` is totally fine.\n",
        "\n",
        "\n",
        "\n",
        "10. Explain why strings are immutable in Python.\n",
        "- Strings are immutable to make them safe and fast to use. If lots of programs share the same string, no one can accidentally change it for everyone else.\n",
        "\n",
        "\n",
        "\n",
        "11. What advantages do dictionaries offer over lists for certain tasks?\n",
        "- Dictionaries are better when we need to look up data by a name or label (key), not by a position. They make finding things faster than searching through a list.\n",
        "\n",
        "\n",
        "\n",
        "12. Describe a scenario where using a tuple would be preferable over a list.\n",
        "- If we want to store a date `(2025, 7, 12)` that should never change, a tuple is better than a list. It keeps the data safe.\n",
        "\n",
        "\n",
        "13. How do sets handle duplicate values in Python?**\n",
        "- Sets automatically remove any duplicates, so we always get unique items.\n",
        "\n",
        "\n",
        "\n",
        "14. How does the “in” keyword work differently for lists and dictionaries?\n",
        "- For lists, `\"in\"` checks if a value is there: `2 in [1, 2, 3]`. For dictionaries, it checks if a key is there: `'name' in {\"name\": \"John\"}`.\n",
        "\n",
        "\n",
        "\n",
        "15. Can you modify the elements of a tuple? Explain why or why not.\n",
        "- No, we can’t. Tuples are immutable — once made, their contents stay the same.\n",
        "\n",
        "\n",
        "\n",
        " 16. What is a nested dictionary, and give an example of its use case.\n",
        " - A nested dictionary is a dictionary inside another dictionary.\n",
        "\n",
        "  Example:\n",
        "\n",
        "            ```python\n",
        "            {\n",
        "              \"student\": {\n",
        "                \"name\": \"Amit\",\n",
        "                \"grades\": {\"math\": 90, \"science\": 85}\n",
        "              }\n",
        "            }\n",
        "            ```\n",
        "\n",
        "  This helps keep related info grouped together.\n",
        "\n",
        "\n",
        "\n",
        "17. Describe the time complexity of accessing elements in a dictionary.\n",
        "- Accessing a value by its key in a dictionary is usually very fast — about O(1) time.\n",
        "\n",
        "\n",
        "\n",
        "18. In what situations are lists preferred over dictionaries?\n",
        "- Lists are better when you care about the order of items or need to store simple sequences like a to-do list.\n",
        "\n",
        "\n",
        "\n",
        "19. Why are dictionaries considered unordered, and how does that affect data retrieval?\n",
        "- In older Python versions, dictionaries didn’t keep the order we added items. So, we can’t rely on the order — you just get the value by its key.\n",
        "\n",
        "\n",
        "\n",
        "20. Explain the difference between a list and a dictionary in terms of data retrieval.\n",
        "- In a list,  we get data by its position (like list\\[0]). In a dictionary, we get data by its key (like dict\\[\"name\"]).\n",
        "\n",
        "\n",
        "\n",
        "\n"
      ],
      "metadata": {
        "id": "aSSdogVzGZsF"
      }
    },
    {
      "cell_type": "markdown",
      "source": [
        "# **Practical Questions :**"
      ],
      "metadata": {
        "id": "4VL531Bvf46R"
      }
    },
    {
      "cell_type": "code",
      "source": [
        "# 1. Write a code to create a string with your name and print it\n",
        "\n",
        "my_name = \"Sayan Saha\"\n",
        "my_name"
      ],
      "metadata": {
        "id": "0SKGbcyWJXt9",
        "colab": {
          "base_uri": "https://localhost:8080/",
          "height": 35
        },
        "outputId": "3b039d85-86f8-41b5-c79c-bbfbb1dc95a7"
      },
      "execution_count": 2,
      "outputs": [
        {
          "output_type": "execute_result",
          "data": {
            "text/plain": [
              "'Sayan Saha'"
            ],
            "application/vnd.google.colaboratory.intrinsic+json": {
              "type": "string"
            }
          },
          "metadata": {},
          "execution_count": 2
        }
      ]
    },
    {
      "cell_type": "code",
      "source": [
        "# 2. Write a code to find the length of the string \"Hello World.\"\n",
        "\n",
        "my_string = \"Hello World\"\n",
        "string_length = len(my_string)\n",
        "string_length"
      ],
      "metadata": {
        "colab": {
          "base_uri": "https://localhost:8080/"
        },
        "id": "_CHUokGrfjxZ",
        "outputId": "6d811ad9-2dc7-4a4d-f4c8-a64f463e96db"
      },
      "execution_count": 3,
      "outputs": [
        {
          "output_type": "execute_result",
          "data": {
            "text/plain": [
              "11"
            ]
          },
          "metadata": {},
          "execution_count": 3
        }
      ]
    },
    {
      "cell_type": "code",
      "source": [
        "# 3. Write a code to slice the first 3 characters from the string \"Python Programming.\"\n",
        "\n",
        "my_string = \"Python Programming\"\n",
        "first_three = my_string[:3]\n",
        "first_three"
      ],
      "metadata": {
        "colab": {
          "base_uri": "https://localhost:8080/",
          "height": 35
        },
        "id": "rGg1OuHqgaQV",
        "outputId": "5733f221-2d37-48db-a255-c73c68c0ab3b"
      },
      "execution_count": 4,
      "outputs": [
        {
          "output_type": "execute_result",
          "data": {
            "text/plain": [
              "'Pyt'"
            ],
            "application/vnd.google.colaboratory.intrinsic+json": {
              "type": "string"
            }
          },
          "metadata": {},
          "execution_count": 4
        }
      ]
    },
    {
      "cell_type": "code",
      "source": [
        "#  4. Write a code to convert the string \"hello\" to uppercase\n",
        "\n",
        "my_string = \"hello\"\n",
        "uppercase_string = my_string.upper()\n",
        "uppercase_string\n"
      ],
      "metadata": {
        "colab": {
          "base_uri": "https://localhost:8080/",
          "height": 35
        },
        "id": "D4UJaJdkgtYs",
        "outputId": "2022f01f-a638-405b-e536-54f44b79207a"
      },
      "execution_count": 5,
      "outputs": [
        {
          "output_type": "execute_result",
          "data": {
            "text/plain": [
              "'HELLO'"
            ],
            "application/vnd.google.colaboratory.intrinsic+json": {
              "type": "string"
            }
          },
          "metadata": {},
          "execution_count": 5
        }
      ]
    },
    {
      "cell_type": "code",
      "source": [
        "#  5. Write a code to replace the word \"apple\" with \"orange\" in the string \"I like apple\".\n",
        "\n",
        "my_string = \"I like apple\"\n",
        "new_string = my_string.replace(\"apple\", \"orange\")\n",
        "new_string"
      ],
      "metadata": {
        "colab": {
          "base_uri": "https://localhost:8080/",
          "height": 35
        },
        "id": "dPs8n_74g7RV",
        "outputId": "d61ce5f3-9501-4813-c69f-75a6d28b337d"
      },
      "execution_count": 7,
      "outputs": [
        {
          "output_type": "execute_result",
          "data": {
            "text/plain": [
              "'I like orange'"
            ],
            "application/vnd.google.colaboratory.intrinsic+json": {
              "type": "string"
            }
          },
          "metadata": {},
          "execution_count": 7
        }
      ]
    },
    {
      "cell_type": "code",
      "source": [
        "#  6. Write a code to create a list with numbers 1 to 5 and print it.\n",
        "\n",
        "my_list = [1, 2, 3, 4, 5]\n",
        "my_list"
      ],
      "metadata": {
        "colab": {
          "base_uri": "https://localhost:8080/"
        },
        "id": "cSGSxhlbhKe9",
        "outputId": "bfb75c93-7e75-4006-fd7b-97cb7b7ae10f"
      },
      "execution_count": 9,
      "outputs": [
        {
          "output_type": "execute_result",
          "data": {
            "text/plain": [
              "[1, 2, 3, 4, 5]"
            ]
          },
          "metadata": {},
          "execution_count": 9
        }
      ]
    },
    {
      "cell_type": "code",
      "source": [
        "#  7. Write a code to append the number 10 to the list [1, 2, 3, 4].\n",
        "\n",
        "my_list = [1, 2, 3, 4]\n",
        "my_list.append(10)\n",
        "my_list"
      ],
      "metadata": {
        "colab": {
          "base_uri": "https://localhost:8080/"
        },
        "id": "0UAFAXYPhaaR",
        "outputId": "d5ce4832-c9a6-4293-d8bd-91b70730f03c"
      },
      "execution_count": 10,
      "outputs": [
        {
          "output_type": "execute_result",
          "data": {
            "text/plain": [
              "[1, 2, 3, 4, 10]"
            ]
          },
          "metadata": {},
          "execution_count": 10
        }
      ]
    },
    {
      "cell_type": "code",
      "source": [
        "# 8. Write a code to remove the number 3 from the list [1, 2, 3, 4, 5].\n",
        "\n",
        "my_list = [1, 2, 3, 4, 5]\n",
        "my_list.remove(3)\n",
        "my_list"
      ],
      "metadata": {
        "colab": {
          "base_uri": "https://localhost:8080/"
        },
        "id": "y8Bqt57DhiPA",
        "outputId": "032ee83b-ee2c-4695-ccb6-2e9f2f6f10d8"
      },
      "execution_count": 11,
      "outputs": [
        {
          "output_type": "execute_result",
          "data": {
            "text/plain": [
              "[1, 2, 4, 5]"
            ]
          },
          "metadata": {},
          "execution_count": 11
        }
      ]
    },
    {
      "cell_type": "code",
      "source": [
        "# 9. Write a code to access the second element in the list ['a', 'b', 'c', 'd'].\n",
        "\n",
        "my_list = ['a', 'b', 'c', 'd']\n",
        "second_element = my_list[1]\n",
        "second_element"
      ],
      "metadata": {
        "colab": {
          "base_uri": "https://localhost:8080/",
          "height": 35
        },
        "id": "t7gEaFR7ivGH",
        "outputId": "699f4f46-f09d-4192-8714-182fc80465ca"
      },
      "execution_count": 12,
      "outputs": [
        {
          "output_type": "execute_result",
          "data": {
            "text/plain": [
              "'b'"
            ],
            "application/vnd.google.colaboratory.intrinsic+json": {
              "type": "string"
            }
          },
          "metadata": {},
          "execution_count": 12
        }
      ]
    },
    {
      "cell_type": "code",
      "source": [
        "#  10. Write a code to reverse the list [10, 20, 30, 40, 50].\n",
        "\n",
        "my_list = [10, 20, 30, 40, 50]\n",
        "my_list.reverse()\n",
        "my_list"
      ],
      "metadata": {
        "colab": {
          "base_uri": "https://localhost:8080/"
        },
        "id": "ZBJEk05ji48b",
        "outputId": "d2915d2c-3d69-41a1-d881-c630743bc4b2"
      },
      "execution_count": 13,
      "outputs": [
        {
          "output_type": "execute_result",
          "data": {
            "text/plain": [
              "[50, 40, 30, 20, 10]"
            ]
          },
          "metadata": {},
          "execution_count": 13
        }
      ]
    },
    {
      "cell_type": "code",
      "source": [
        "#  11. Write a code to create a tuple with the elements 100, 200, 300 and print it.\n",
        "\n",
        "my_tuple = (100, 200, 300)\n",
        "my_tuple\n"
      ],
      "metadata": {
        "colab": {
          "base_uri": "https://localhost:8080/"
        },
        "id": "BYoOZFTkjDe6",
        "outputId": "73e36f42-0d75-439a-9163-6859c0734dff"
      },
      "execution_count": 14,
      "outputs": [
        {
          "output_type": "execute_result",
          "data": {
            "text/plain": [
              "(100, 200, 300)"
            ]
          },
          "metadata": {},
          "execution_count": 14
        }
      ]
    },
    {
      "cell_type": "code",
      "source": [
        "#  12. Write a code to access the second-to-last element of the tuple ('red', 'green', 'blue', 'yellow').\n",
        "\n",
        "my_tuple = ('red', 'green', 'blue', 'yellow')\n",
        "second_to_last_element = my_tuple[-2]\n",
        "second_to_last_element"
      ],
      "metadata": {
        "colab": {
          "base_uri": "https://localhost:8080/",
          "height": 35
        },
        "id": "aVt8_95BjSm4",
        "outputId": "ffcc3407-1522-466b-cfb0-2ebb0f76e433"
      },
      "execution_count": 15,
      "outputs": [
        {
          "output_type": "execute_result",
          "data": {
            "text/plain": [
              "'blue'"
            ],
            "application/vnd.google.colaboratory.intrinsic+json": {
              "type": "string"
            }
          },
          "metadata": {},
          "execution_count": 15
        }
      ]
    },
    {
      "cell_type": "code",
      "source": [
        "#  13. Write a code to find the minimum number in the tuple (10, 20, 5, 15).\n",
        "\n",
        "my_tuple = (10, 20, 5, 15)\n",
        "minimum_number = min(my_tuple)\n",
        "minimum_number"
      ],
      "metadata": {
        "colab": {
          "base_uri": "https://localhost:8080/"
        },
        "id": "Tnk4k0nsjYdD",
        "outputId": "75e942d2-440f-45f4-9df7-d2ba9c78598f"
      },
      "execution_count": 16,
      "outputs": [
        {
          "output_type": "execute_result",
          "data": {
            "text/plain": [
              "5"
            ]
          },
          "metadata": {},
          "execution_count": 16
        }
      ]
    },
    {
      "cell_type": "code",
      "source": [
        "#  14.  Write a code to find the index of the element \"cat\" in the tuple ('dog', 'cat', 'rabbit')\n",
        "\n",
        "my_tuple = ('dog', 'cat', 'rabbit')\n",
        "index_of_cat = my_tuple.index('cat')\n",
        "index_of_cat"
      ],
      "metadata": {
        "colab": {
          "base_uri": "https://localhost:8080/"
        },
        "id": "XeFMDQRejgtX",
        "outputId": "ef0b1c79-96ff-4ca3-fb11-916c54ee2118"
      },
      "execution_count": 17,
      "outputs": [
        {
          "output_type": "execute_result",
          "data": {
            "text/plain": [
              "1"
            ]
          },
          "metadata": {},
          "execution_count": 17
        }
      ]
    },
    {
      "cell_type": "code",
      "source": [
        "#  15. Write a code to create a tuple containing three different fruits and check if \"kiwi\" is in it.\n",
        "\n",
        "fruits_tuple = (\"apple\", \"banana\", \"orange\")\n",
        "if \"kiwi\" in fruits_tuple:\n",
        "  print(\"Kiwi is in the tuple.\")\n",
        "else:\n",
        "  print(\"Kiwi is not in the tuple.\")"
      ],
      "metadata": {
        "colab": {
          "base_uri": "https://localhost:8080/"
        },
        "id": "OUZ6_WAhjrez",
        "outputId": "c6bae699-1a36-4561-c25f-085c7e270536"
      },
      "execution_count": 18,
      "outputs": [
        {
          "output_type": "stream",
          "name": "stdout",
          "text": [
            "Kiwi is not in the tuple.\n"
          ]
        }
      ]
    },
    {
      "cell_type": "code",
      "source": [
        "#  16.  Write a code to create a set with the elements 'a', 'b', 'c' and print it.\n",
        "\n",
        "my_set = {'a', 'b', 'c'}\n",
        "my_set"
      ],
      "metadata": {
        "colab": {
          "base_uri": "https://localhost:8080/"
        },
        "id": "ZqGXbCFkj4LM",
        "outputId": "66e7b9bd-a2ea-42b4-a8f6-762c9883573c"
      },
      "execution_count": 19,
      "outputs": [
        {
          "output_type": "execute_result",
          "data": {
            "text/plain": [
              "{'a', 'b', 'c'}"
            ]
          },
          "metadata": {},
          "execution_count": 19
        }
      ]
    },
    {
      "cell_type": "code",
      "source": [
        "#  17. Write a code to clear all elements from the set {1, 2, 3, 4, 5}.\n",
        "\n",
        "my_set = {1, 2, 3, 4, 5}\n",
        "my_set.clear()\n",
        "my_set"
      ],
      "metadata": {
        "colab": {
          "base_uri": "https://localhost:8080/"
        },
        "id": "uhnWXst6kCd8",
        "outputId": "d0cf51ca-7244-4280-eef3-11a9a730c9ba"
      },
      "execution_count": 20,
      "outputs": [
        {
          "output_type": "execute_result",
          "data": {
            "text/plain": [
              "set()"
            ]
          },
          "metadata": {},
          "execution_count": 20
        }
      ]
    },
    {
      "cell_type": "code",
      "source": [
        "# 18. Write a code to remove the element 4 from the set {1, 2, 3, 4}.\n",
        "\n",
        "my_set = {1, 2, 3, 4}\n",
        "my_set.remove(4)\n",
        "my_set\n"
      ],
      "metadata": {
        "colab": {
          "base_uri": "https://localhost:8080/"
        },
        "id": "A7kQxi4IkMcU",
        "outputId": "13ecde6c-e025-48ec-e66f-b546c5e03f57"
      },
      "execution_count": 21,
      "outputs": [
        {
          "output_type": "execute_result",
          "data": {
            "text/plain": [
              "{1, 2, 3}"
            ]
          },
          "metadata": {},
          "execution_count": 21
        }
      ]
    },
    {
      "cell_type": "code",
      "source": [
        "#  19. Write a code to find the union of two sets {1, 2, 3} and {3, 4, 5}.\n",
        "\n",
        "set1 = {1, 2, 3}\n",
        "set2 = {3, 4, 5}\n",
        "union_set = set1.union(set2)\n",
        "union_set"
      ],
      "metadata": {
        "colab": {
          "base_uri": "https://localhost:8080/"
        },
        "id": "h_hkBvMGkWqf",
        "outputId": "b639f4b8-c783-4922-86fb-21d8aec93b15"
      },
      "execution_count": 22,
      "outputs": [
        {
          "output_type": "execute_result",
          "data": {
            "text/plain": [
              "{1, 2, 3, 4, 5}"
            ]
          },
          "metadata": {},
          "execution_count": 22
        }
      ]
    },
    {
      "cell_type": "code",
      "source": [
        "#  20. Write a code to find the intersection of two sets {1, 2, 3} and {2, 3, 4}.\n",
        "\n",
        "set1 = {1, 2, 3}\n",
        "set2 = {2, 3, 4}\n",
        "intersection_set = set1.intersection(set2)\n",
        "intersection_set"
      ],
      "metadata": {
        "colab": {
          "base_uri": "https://localhost:8080/"
        },
        "id": "VMUTHEKbkuT9",
        "outputId": "59380368-2e69-4e0a-c22f-397e5ae97c84"
      },
      "execution_count": 23,
      "outputs": [
        {
          "output_type": "execute_result",
          "data": {
            "text/plain": [
              "{2, 3}"
            ]
          },
          "metadata": {},
          "execution_count": 23
        }
      ]
    },
    {
      "cell_type": "code",
      "source": [
        "#  21. Write a code to create a dictionary with the keys \"name\", \"age\", and \"city\", and print it.\n",
        "\n",
        "my_dict = {\"name\": \"Sayan\", \"age\": 23, \"city\": \"Agartala\"}\n",
        "my_dict"
      ],
      "metadata": {
        "colab": {
          "base_uri": "https://localhost:8080/"
        },
        "id": "xn1-cAJbk2Jg",
        "outputId": "1ca6c763-f59b-4e0f-97bc-14d98f420f4a"
      },
      "execution_count": 26,
      "outputs": [
        {
          "output_type": "execute_result",
          "data": {
            "text/plain": [
              "{'name': 'Sayan', 'age': 23, 'city': 'Agartala'}"
            ]
          },
          "metadata": {},
          "execution_count": 26
        }
      ]
    },
    {
      "cell_type": "code",
      "source": [
        "#  22. Write a code to add a new key-value pair \"country\": \"USA\" to the dictionary {'name': 'John', 'age': 25}.\n",
        "\n",
        "my_dict = {'name': 'John', 'age': 25}\n",
        "my_dict['country'] = 'USA'\n",
        "my_dict"
      ],
      "metadata": {
        "colab": {
          "base_uri": "https://localhost:8080/"
        },
        "id": "-5K34RrwlOkD",
        "outputId": "d567740c-689d-45be-fae5-14e40f0bf520"
      },
      "execution_count": 27,
      "outputs": [
        {
          "output_type": "execute_result",
          "data": {
            "text/plain": [
              "{'name': 'John', 'age': 25, 'country': 'USA'}"
            ]
          },
          "metadata": {},
          "execution_count": 27
        }
      ]
    },
    {
      "cell_type": "code",
      "source": [
        "#  23. Write a code to access the value associated with the key \"name\" in the dictionary {'name': 'Alice', 'age': 30}.\n",
        "\n",
        "my_dict = {'name': 'Alice', 'age': 30}\n",
        "name_value = my_dict['name']\n",
        "name_value"
      ],
      "metadata": {
        "colab": {
          "base_uri": "https://localhost:8080/",
          "height": 35
        },
        "id": "Cj4bR9RalfVt",
        "outputId": "805e8fbf-c0e7-4138-9b66-1dd39b02e996"
      },
      "execution_count": 28,
      "outputs": [
        {
          "output_type": "execute_result",
          "data": {
            "text/plain": [
              "'Alice'"
            ],
            "application/vnd.google.colaboratory.intrinsic+json": {
              "type": "string"
            }
          },
          "metadata": {},
          "execution_count": 28
        }
      ]
    },
    {
      "cell_type": "code",
      "source": [
        "#  24. Write a code to remove the key \"age\" from the dictionary {'name': 'Bob', 'age': 22, 'city': 'New York'}.\n",
        "\n",
        "my_dict = {'name': 'Bob', 'age': 22, 'city': 'New York'}\n",
        "del my_dict['age']\n",
        "my_dict"
      ],
      "metadata": {
        "colab": {
          "base_uri": "https://localhost:8080/"
        },
        "id": "9egQX5hWls8d",
        "outputId": "ae068237-22e7-4772-bdb8-6fa773c7c430"
      },
      "execution_count": 29,
      "outputs": [
        {
          "output_type": "execute_result",
          "data": {
            "text/plain": [
              "{'name': 'Bob', 'city': 'New York'}"
            ]
          },
          "metadata": {},
          "execution_count": 29
        }
      ]
    },
    {
      "cell_type": "code",
      "source": [
        "#  25.  Write a code to check if the key \"city\" exists in the dictionary {'name': 'Alice', 'city': 'Paris'}.\n",
        "\n",
        "my_dict = {'name': 'Alice', 'city': 'Paris'}\n",
        "if 'city' in my_dict:\n",
        "  print(\"The key 'city' exists in the dictionary.\")\n",
        "else:\n",
        "  print(\"The key 'city' does not exist in the dictionary.\")"
      ],
      "metadata": {
        "colab": {
          "base_uri": "https://localhost:8080/"
        },
        "id": "PapsYspPl1M3",
        "outputId": "7cee5a45-7579-4283-a0e2-6e78dc0a42ad"
      },
      "execution_count": 30,
      "outputs": [
        {
          "output_type": "stream",
          "name": "stdout",
          "text": [
            "The key 'city' exists in the dictionary.\n"
          ]
        }
      ]
    },
    {
      "cell_type": "code",
      "source": [
        "#  26.  Write a code to create a list, a tuple, and a dictionary, and print them all.\n",
        "\n",
        "# Creating a list\n",
        "my_list = [1, 2, 3, 4, 5]\n",
        "\n",
        "# Creating a tuple\n",
        "my_tuple = (10, 20, 30, 40, 50)\n",
        "\n",
        "# Creating a dictionary\n",
        "my_dict = {\"Name\": \"Sonali\", \"Relation\": \"My love\", \"Figure\": \" Sexy and Curvy\"}\n",
        "\n",
        "# Printing the data structures\n",
        "print(\"My List is:\", my_list)\n",
        "print(\"My Tuple is:\", my_tuple)\n",
        "print(\"My Dictionary is:\", my_dict)"
      ],
      "metadata": {
        "colab": {
          "base_uri": "https://localhost:8080/"
        },
        "id": "gMpc_dpDmA_A",
        "outputId": "9e5e1052-c1ae-4fc2-d33a-85bf195db53d"
      },
      "execution_count": 38,
      "outputs": [
        {
          "output_type": "stream",
          "name": "stdout",
          "text": [
            "My List is: [1, 2, 3, 4, 5]\n",
            "My Tuple is: (10, 20, 30, 40, 50)\n",
            "My Dictionary is: {'Name': 'Sonali', 'Relation': 'My love', 'Figure': ' Sexy and Curvy'}\n"
          ]
        }
      ]
    },
    {
      "cell_type": "code",
      "source": [
        "#  27. Write a code to create a list of 5 random numbers between 1 and 100, sort it in ascending order, and print the\n",
        "# result.(replaced)\n",
        "\n",
        "import random\n",
        "\n",
        "random_numbers = [random.randint(1, 100) for i_love_u in range(5)]\n",
        "random_numbers.sort()\n",
        "random_numbers"
      ],
      "metadata": {
        "colab": {
          "base_uri": "https://localhost:8080/"
        },
        "id": "JpH0BSe4nEDF",
        "outputId": "5e8b5536-d689-4fbc-99f8-cb825173efe9"
      },
      "execution_count": 43,
      "outputs": [
        {
          "output_type": "execute_result",
          "data": {
            "text/plain": [
              "[58, 68, 68, 77, 81]"
            ]
          },
          "metadata": {},
          "execution_count": 43
        }
      ]
    },
    {
      "cell_type": "code",
      "source": [
        "#  28. Write a code to create a list with strings and print the element at the third index.\n",
        "\n",
        "my_list_of_strings = [\"Simran\", \"Tania\", \"Sneha\", \"Sonali\", \"Priyanka\"]\n",
        "my_list_of_strings[3]"
      ],
      "metadata": {
        "colab": {
          "base_uri": "https://localhost:8080/",
          "height": 35
        },
        "id": "DXDVYcI3nlLN",
        "outputId": "69452ac6-f4bd-45ab-e66c-cb45a721b07d"
      },
      "execution_count": 49,
      "outputs": [
        {
          "output_type": "execute_result",
          "data": {
            "text/plain": [
              "'Sonali'"
            ],
            "application/vnd.google.colaboratory.intrinsic+json": {
              "type": "string"
            }
          },
          "metadata": {},
          "execution_count": 49
        }
      ]
    },
    {
      "cell_type": "code",
      "source": [
        "#  29. Write a code to combine two dictionaries into one and print the result.\n",
        "\n",
        "dic1 = {\"a\": 1, \"b\": 2}\n",
        "dic2 = {\"c\": 3, \"d\": 4}\n",
        "\n",
        "combined_dict = {**dic1, **dic2}\n",
        "combined_dict"
      ],
      "metadata": {
        "colab": {
          "base_uri": "https://localhost:8080/"
        },
        "id": "6xydiYGJoZXi",
        "outputId": "3201584d-39d5-4421-d8b3-685daa4e0931"
      },
      "execution_count": 51,
      "outputs": [
        {
          "output_type": "execute_result",
          "data": {
            "text/plain": [
              "{'a': 1, 'b': 2, 'c': 3, 'd': 4}"
            ]
          },
          "metadata": {},
          "execution_count": 51
        }
      ]
    },
    {
      "cell_type": "code",
      "source": [
        "#  30. Write a code to convert a list of strings into a set.\n",
        "\n",
        "def list_to_set(string_list):\n",
        "\n",
        " return set(string_list)\n",
        "\n",
        "my_list_of_strings = [\"Chemistry\",\"Mathematics\",\"Physics\"]\n",
        "my_set_of_strings = list_to_set(my_list_of_strings)\n",
        "print(my_set_of_strings)\n",
        ""
      ],
      "metadata": {
        "colab": {
          "base_uri": "https://localhost:8080/"
        },
        "id": "dlqFZangow3J",
        "outputId": "aba268ab-27f8-471b-df0c-d4f6a7de3ad8"
      },
      "execution_count": 79,
      "outputs": [
        {
          "output_type": "stream",
          "name": "stdout",
          "text": [
            "{'Physics', 'Chemistry', 'Mathematics'}\n"
          ]
        }
      ]
    }
  ]
}